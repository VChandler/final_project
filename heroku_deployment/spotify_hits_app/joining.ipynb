{
 "cells": [
  {
   "cell_type": "code",
   "execution_count": 1,
   "source": [
    "import pandas as pd"
   ],
   "outputs": [],
   "metadata": {}
  },
  {
   "cell_type": "code",
   "execution_count": 2,
   "source": [
    "# Create sqlalchemy\n",
    "from sqlalchemy import create_engine\n",
    "engine = create_engine(f\"sqlite:///spotify.sqlite\")"
   ],
   "outputs": [],
   "metadata": {}
  },
  {
   "cell_type": "code",
   "execution_count": 3,
   "source": [
    "# Connect to database\n",
    "with engine.connect() as conn:\n",
    "    songsdf = pd.read_sql(\"SELECT * FROM songs\", conn)"
   ],
   "outputs": [],
   "metadata": {}
  },
  {
   "cell_type": "code",
   "execution_count": 4,
   "source": [
    "# Connect to database\n",
    "with engine.connect() as conn:\n",
    "    trackdf = pd.read_sql(\"SELECT * FROM trackinfo\", conn)"
   ],
   "outputs": [],
   "metadata": {}
  },
  {
   "cell_type": "code",
   "execution_count": 5,
   "source": [
    "joined_df = pd.merge(songsdf, trackdf, on='track_id', how='inner')"
   ],
   "outputs": [],
   "metadata": {}
  },
  {
   "cell_type": "code",
   "execution_count": 6,
   "source": [
    "joined_df.head()"
   ],
   "outputs": [
    {
     "output_type": "execute_result",
     "data": {
      "text/plain": [
       "                 track_id  acousticness  danceability  energy  \\\n",
       "0  000CzNKC8PEt1yC3L8dqwV         0.249         0.518   0.805   \n",
       "1  000DfZJww8KiixTKuk9usJ         0.366         0.631   0.513   \n",
       "2  000EWWBkYaREzsBplYjUag         0.815         0.768   0.137   \n",
       "3  000xQL6tZNLJzIrtIgxqSl         0.131         0.748   0.627   \n",
       "4  001bQcMKt86oNbnWne4EAB         0.231         0.747   0.583   \n",
       "\n",
       "   instrumentalness  liveness  loudness  speechiness    tempo  valence  hit  \\\n",
       "0          0.000000    0.3330    -6.248       0.0407   79.124   0.8410  0.0   \n",
       "1          0.000004    0.1090    -6.376       0.0293  120.365   0.3070  0.0   \n",
       "2          0.922000    0.1130   -13.284       0.0747   76.430   0.5600  0.0   \n",
       "3          0.000000    0.0852    -6.029       0.0644  120.963   0.5240  1.0   \n",
       "4          0.000000    0.0443    -7.072       0.0575  114.071   0.0381  0.0   \n",
       "\n",
       "        genre     artist_name                          track_name  \n",
       "0      Cinema  Henri Salvador  Coeur Brisé à Prendre - Remastered  \n",
       "1  Ska_Reggae       Mike Love                          Earthlings  \n",
       "2  Jazz_Blues    Don Philippe                           Fewerdolr  \n",
       "3   Danceclub            ZAYN                      Still Got Time  \n",
       "4       World   Justin Quiles                 No Quieren Que Gane  "
      ],
      "text/html": [
       "<div>\n",
       "<style scoped>\n",
       "    .dataframe tbody tr th:only-of-type {\n",
       "        vertical-align: middle;\n",
       "    }\n",
       "\n",
       "    .dataframe tbody tr th {\n",
       "        vertical-align: top;\n",
       "    }\n",
       "\n",
       "    .dataframe thead th {\n",
       "        text-align: right;\n",
       "    }\n",
       "</style>\n",
       "<table border=\"1\" class=\"dataframe\">\n",
       "  <thead>\n",
       "    <tr style=\"text-align: right;\">\n",
       "      <th></th>\n",
       "      <th>track_id</th>\n",
       "      <th>acousticness</th>\n",
       "      <th>danceability</th>\n",
       "      <th>energy</th>\n",
       "      <th>instrumentalness</th>\n",
       "      <th>liveness</th>\n",
       "      <th>loudness</th>\n",
       "      <th>speechiness</th>\n",
       "      <th>tempo</th>\n",
       "      <th>valence</th>\n",
       "      <th>hit</th>\n",
       "      <th>genre</th>\n",
       "      <th>artist_name</th>\n",
       "      <th>track_name</th>\n",
       "    </tr>\n",
       "  </thead>\n",
       "  <tbody>\n",
       "    <tr>\n",
       "      <th>0</th>\n",
       "      <td>000CzNKC8PEt1yC3L8dqwV</td>\n",
       "      <td>0.249</td>\n",
       "      <td>0.518</td>\n",
       "      <td>0.805</td>\n",
       "      <td>0.000000</td>\n",
       "      <td>0.3330</td>\n",
       "      <td>-6.248</td>\n",
       "      <td>0.0407</td>\n",
       "      <td>79.124</td>\n",
       "      <td>0.8410</td>\n",
       "      <td>0.0</td>\n",
       "      <td>Cinema</td>\n",
       "      <td>Henri Salvador</td>\n",
       "      <td>Coeur Brisé à Prendre - Remastered</td>\n",
       "    </tr>\n",
       "    <tr>\n",
       "      <th>1</th>\n",
       "      <td>000DfZJww8KiixTKuk9usJ</td>\n",
       "      <td>0.366</td>\n",
       "      <td>0.631</td>\n",
       "      <td>0.513</td>\n",
       "      <td>0.000004</td>\n",
       "      <td>0.1090</td>\n",
       "      <td>-6.376</td>\n",
       "      <td>0.0293</td>\n",
       "      <td>120.365</td>\n",
       "      <td>0.3070</td>\n",
       "      <td>0.0</td>\n",
       "      <td>Ska_Reggae</td>\n",
       "      <td>Mike Love</td>\n",
       "      <td>Earthlings</td>\n",
       "    </tr>\n",
       "    <tr>\n",
       "      <th>2</th>\n",
       "      <td>000EWWBkYaREzsBplYjUag</td>\n",
       "      <td>0.815</td>\n",
       "      <td>0.768</td>\n",
       "      <td>0.137</td>\n",
       "      <td>0.922000</td>\n",
       "      <td>0.1130</td>\n",
       "      <td>-13.284</td>\n",
       "      <td>0.0747</td>\n",
       "      <td>76.430</td>\n",
       "      <td>0.5600</td>\n",
       "      <td>0.0</td>\n",
       "      <td>Jazz_Blues</td>\n",
       "      <td>Don Philippe</td>\n",
       "      <td>Fewerdolr</td>\n",
       "    </tr>\n",
       "    <tr>\n",
       "      <th>3</th>\n",
       "      <td>000xQL6tZNLJzIrtIgxqSl</td>\n",
       "      <td>0.131</td>\n",
       "      <td>0.748</td>\n",
       "      <td>0.627</td>\n",
       "      <td>0.000000</td>\n",
       "      <td>0.0852</td>\n",
       "      <td>-6.029</td>\n",
       "      <td>0.0644</td>\n",
       "      <td>120.963</td>\n",
       "      <td>0.5240</td>\n",
       "      <td>1.0</td>\n",
       "      <td>Danceclub</td>\n",
       "      <td>ZAYN</td>\n",
       "      <td>Still Got Time</td>\n",
       "    </tr>\n",
       "    <tr>\n",
       "      <th>4</th>\n",
       "      <td>001bQcMKt86oNbnWne4EAB</td>\n",
       "      <td>0.231</td>\n",
       "      <td>0.747</td>\n",
       "      <td>0.583</td>\n",
       "      <td>0.000000</td>\n",
       "      <td>0.0443</td>\n",
       "      <td>-7.072</td>\n",
       "      <td>0.0575</td>\n",
       "      <td>114.071</td>\n",
       "      <td>0.0381</td>\n",
       "      <td>0.0</td>\n",
       "      <td>World</td>\n",
       "      <td>Justin Quiles</td>\n",
       "      <td>No Quieren Que Gane</td>\n",
       "    </tr>\n",
       "  </tbody>\n",
       "</table>\n",
       "</div>"
      ]
     },
     "metadata": {},
     "execution_count": 6
    }
   ],
   "metadata": {}
  },
  {
   "cell_type": "code",
   "execution_count": null,
   "source": [],
   "outputs": [],
   "metadata": {}
  }
 ],
 "metadata": {
  "orig_nbformat": 4,
  "language_info": {
   "name": "python",
   "version": "3.7.11",
   "mimetype": "text/x-python",
   "codemirror_mode": {
    "name": "ipython",
    "version": 3
   },
   "pygments_lexer": "ipython3",
   "nbconvert_exporter": "python",
   "file_extension": ".py"
  },
  "kernelspec": {
   "name": "python3",
   "display_name": "Python 3.7.11 64-bit ('mlenv': conda)"
  },
  "interpreter": {
   "hash": "cf3808573a69914c0336379fb797e558a0780ead6a7d71250312cbfaa7acbeec"
  }
 },
 "nbformat": 4,
 "nbformat_minor": 2
}